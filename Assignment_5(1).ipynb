{
 "cells": [
  {
   "cell_type": "markdown",
   "metadata": {},
   "source": [
    "<h1>ASSIGNMENT 5 : Logistic Regression on Amazon Fine Food Reviews</h1>"
   ]
  },
  {
   "cell_type": "markdown",
   "metadata": {},
   "source": [
    "Data Source: https://www.kaggle.com/snap/amazon-fine-food-reviews"
   ]
  },
  {
   "cell_type": "markdown",
   "metadata": {},
   "source": [
    "<strong> OBJECTIVES :</strong>\n",
    "    - Featurization/ Vectorization : Bow, tf-idf, avg w2v, tf-idf w2v\n",
    "    - Train & Test Split : Time based slicing (70:30)\n",
    "    - Cross validation : k-fold cv to find optimal c for each Vectorization\n",
    "    - Test accuracy,f1 score,precsion,confusion matrix applied on all vectorization\n",
    "    - Optimal C Techniques : GridSearchCV and RandomSearchCV\n",
    "    - Regularisation : L1 and L2"
   ]
  },
  {
   "cell_type": "code",
   "execution_count": 1,
   "metadata": {},
   "outputs": [],
   "source": [
    "%matplotlib inline\n",
    "import warnings\n",
    "warnings.filterwarnings(\"ignore\")\n",
    "\n",
    "import sqlite3\n",
    "import pandas as pd\n",
    "import numpy as np\n",
    "import nltk\n",
    "import string\n",
    "import matplotlib.pyplot as plt\n",
    "import seaborn as sns"
   ]
  },
  {
   "cell_type": "code",
   "execution_count": 2,
   "metadata": {},
   "outputs": [],
   "source": [
    "import pickle\n",
    "def savetofile(obj,filename):\n",
    "    pickle.dump(obj,open(filename+\".p\",\"wb\"))\n",
    "def openfromfile(filename):\n",
    "    temp = pickle.load(open(filename+\".p\",\"rb\"))\n",
    "    return temp"
   ]
  },
  {
   "cell_type": "code",
   "execution_count": 3,
   "metadata": {},
   "outputs": [],
   "source": [
    "from sklearn.metrics import accuracy_score\n",
    "from sklearn.metrics import confusion_matrix\n",
    "from sklearn.metrics import precision_score\n",
    "from sklearn.metrics import f1_score\n",
    "from sklearn.metrics import recall_score"
   ]
  },
  {
   "cell_type": "code",
   "execution_count": 39,
   "metadata": {},
   "outputs": [],
   "source": [
    "# Loading Pre-Processed data( Reviews ) from database\n",
    "conn = sqlite3.connect('final_database.sqlite')\n",
    "data = pd.read_sql_query('''SELECT * FROM Reviews''',conn)"
   ]
  },
  {
   "cell_type": "code",
   "execution_count": 40,
   "metadata": {},
   "outputs": [
    {
     "data": {
      "text/html": [
       "<div>\n",
       "<style scoped>\n",
       "    .dataframe tbody tr th:only-of-type {\n",
       "        vertical-align: middle;\n",
       "    }\n",
       "\n",
       "    .dataframe tbody tr th {\n",
       "        vertical-align: top;\n",
       "    }\n",
       "\n",
       "    .dataframe thead th {\n",
       "        text-align: right;\n",
       "    }\n",
       "</style>\n",
       "<table border=\"1\" class=\"dataframe\">\n",
       "  <thead>\n",
       "    <tr style=\"text-align: right;\">\n",
       "      <th></th>\n",
       "      <th>index</th>\n",
       "      <th>Id</th>\n",
       "      <th>ProductId</th>\n",
       "      <th>UserId</th>\n",
       "      <th>ProfileName</th>\n",
       "      <th>HelpfulnessNumerator</th>\n",
       "      <th>HelpfulnessDenominator</th>\n",
       "      <th>Score</th>\n",
       "      <th>Time</th>\n",
       "      <th>Summary</th>\n",
       "      <th>Text</th>\n",
       "      <th>CleanText</th>\n",
       "    </tr>\n",
       "  </thead>\n",
       "  <tbody>\n",
       "    <tr>\n",
       "      <th>0</th>\n",
       "      <td>138706</td>\n",
       "      <td>150524</td>\n",
       "      <td>0006641040</td>\n",
       "      <td>ACITT7DI6IDDL</td>\n",
       "      <td>shari zychinski</td>\n",
       "      <td>0</td>\n",
       "      <td>0</td>\n",
       "      <td>positive</td>\n",
       "      <td>939340800</td>\n",
       "      <td>EVERY book is educational</td>\n",
       "      <td>this witty little book makes my son laugh at l...</td>\n",
       "      <td>witti littl book make son laugh loud recit car...</td>\n",
       "    </tr>\n",
       "    <tr>\n",
       "      <th>1</th>\n",
       "      <td>138688</td>\n",
       "      <td>150506</td>\n",
       "      <td>0006641040</td>\n",
       "      <td>A2IW4PEEKO2R0U</td>\n",
       "      <td>Tracy</td>\n",
       "      <td>1</td>\n",
       "      <td>1</td>\n",
       "      <td>positive</td>\n",
       "      <td>1194739200</td>\n",
       "      <td>Love the book, miss the hard cover version</td>\n",
       "      <td>I grew up reading these Sendak books, and watc...</td>\n",
       "      <td>grew read sendak book watch realli rosi movi i...</td>\n",
       "    </tr>\n",
       "    <tr>\n",
       "      <th>2</th>\n",
       "      <td>138689</td>\n",
       "      <td>150507</td>\n",
       "      <td>0006641040</td>\n",
       "      <td>A1S4A3IQ2MU7V4</td>\n",
       "      <td>sally sue \"sally sue\"</td>\n",
       "      <td>1</td>\n",
       "      <td>1</td>\n",
       "      <td>positive</td>\n",
       "      <td>1191456000</td>\n",
       "      <td>chicken soup with rice months</td>\n",
       "      <td>This is a fun way for children to learn their ...</td>\n",
       "      <td>fun way children learn month year learn poem t...</td>\n",
       "    </tr>\n",
       "  </tbody>\n",
       "</table>\n",
       "</div>"
      ],
      "text/plain": [
       "    index      Id   ProductId          UserId            ProfileName  \\\n",
       "0  138706  150524  0006641040   ACITT7DI6IDDL        shari zychinski   \n",
       "1  138688  150506  0006641040  A2IW4PEEKO2R0U                  Tracy   \n",
       "2  138689  150507  0006641040  A1S4A3IQ2MU7V4  sally sue \"sally sue\"   \n",
       "\n",
       "   HelpfulnessNumerator  HelpfulnessDenominator     Score        Time  \\\n",
       "0                     0                       0  positive   939340800   \n",
       "1                     1                       1  positive  1194739200   \n",
       "2                     1                       1  positive  1191456000   \n",
       "\n",
       "                                      Summary  \\\n",
       "0                   EVERY book is educational   \n",
       "1  Love the book, miss the hard cover version   \n",
       "2               chicken soup with rice months   \n",
       "\n",
       "                                                Text  \\\n",
       "0  this witty little book makes my son laugh at l...   \n",
       "1  I grew up reading these Sendak books, and watc...   \n",
       "2  This is a fun way for children to learn their ...   \n",
       "\n",
       "                                           CleanText  \n",
       "0  witti littl book make son laugh loud recit car...  \n",
       "1  grew read sendak book watch realli rosi movi i...  \n",
       "2  fun way children learn month year learn poem t...  "
      ]
     },
     "execution_count": 40,
     "metadata": {},
     "output_type": "execute_result"
    }
   ],
   "source": [
    "data.head(3)"
   ]
  },
  {
   "cell_type": "code",
   "execution_count": 41,
   "metadata": {},
   "outputs": [
    {
     "data": {
      "text/plain": [
       "(364171, 12)"
      ]
     },
     "execution_count": 41,
     "metadata": {},
     "output_type": "execute_result"
    }
   ],
   "source": [
    "data.shape"
   ]
  },
  {
   "cell_type": "code",
   "execution_count": 42,
   "metadata": {},
   "outputs": [],
   "source": [
    "# Sorting data in ascending order wrt time\n",
    "data[\"Time\"] = pd.to_datetime(data[\"Time\"], unit = \"s\")\n",
    "data = data.sort_values(by = \"Time\")"
   ]
  },
  {
   "cell_type": "code",
   "execution_count": 43,
   "metadata": {},
   "outputs": [
    {
     "data": {
      "text/html": [
       "<div>\n",
       "<style scoped>\n",
       "    .dataframe tbody tr th:only-of-type {\n",
       "        vertical-align: middle;\n",
       "    }\n",
       "\n",
       "    .dataframe tbody tr th {\n",
       "        vertical-align: top;\n",
       "    }\n",
       "\n",
       "    .dataframe thead th {\n",
       "        text-align: right;\n",
       "    }\n",
       "</style>\n",
       "<table border=\"1\" class=\"dataframe\">\n",
       "  <thead>\n",
       "    <tr style=\"text-align: right;\">\n",
       "      <th></th>\n",
       "      <th>index</th>\n",
       "      <th>Id</th>\n",
       "      <th>ProductId</th>\n",
       "      <th>UserId</th>\n",
       "      <th>ProfileName</th>\n",
       "      <th>HelpfulnessNumerator</th>\n",
       "      <th>HelpfulnessDenominator</th>\n",
       "      <th>Score</th>\n",
       "      <th>Time</th>\n",
       "      <th>Summary</th>\n",
       "      <th>Text</th>\n",
       "      <th>CleanText</th>\n",
       "    </tr>\n",
       "  </thead>\n",
       "  <tbody>\n",
       "    <tr>\n",
       "      <th>0</th>\n",
       "      <td>138706</td>\n",
       "      <td>150524</td>\n",
       "      <td>0006641040</td>\n",
       "      <td>ACITT7DI6IDDL</td>\n",
       "      <td>shari zychinski</td>\n",
       "      <td>0</td>\n",
       "      <td>0</td>\n",
       "      <td>positive</td>\n",
       "      <td>1999-10-08</td>\n",
       "      <td>EVERY book is educational</td>\n",
       "      <td>this witty little book makes my son laugh at l...</td>\n",
       "      <td>witti littl book make son laugh loud recit car...</td>\n",
       "    </tr>\n",
       "    <tr>\n",
       "      <th>30</th>\n",
       "      <td>138683</td>\n",
       "      <td>150501</td>\n",
       "      <td>0006641040</td>\n",
       "      <td>AJ46FKXOVC7NR</td>\n",
       "      <td>Nicholas A Mesiano</td>\n",
       "      <td>2</td>\n",
       "      <td>2</td>\n",
       "      <td>positive</td>\n",
       "      <td>1999-10-25</td>\n",
       "      <td>This whole series is great way to spend time w...</td>\n",
       "      <td>I can remember seeing the show when it aired o...</td>\n",
       "      <td>rememb see show air televis year ago child sis...</td>\n",
       "    </tr>\n",
       "    <tr>\n",
       "      <th>424</th>\n",
       "      <td>417839</td>\n",
       "      <td>451856</td>\n",
       "      <td>B00004CXX9</td>\n",
       "      <td>AIUWLEQ1ADEG5</td>\n",
       "      <td>Elizabeth Medina</td>\n",
       "      <td>0</td>\n",
       "      <td>0</td>\n",
       "      <td>positive</td>\n",
       "      <td>1999-12-02</td>\n",
       "      <td>Entertainingl Funny!</td>\n",
       "      <td>Beetlejuice is a well written movie ..... ever...</td>\n",
       "      <td>beetlejuic well written movi everyth excel act...</td>\n",
       "    </tr>\n",
       "  </tbody>\n",
       "</table>\n",
       "</div>"
      ],
      "text/plain": [
       "      index      Id   ProductId         UserId         ProfileName  \\\n",
       "0    138706  150524  0006641040  ACITT7DI6IDDL     shari zychinski   \n",
       "30   138683  150501  0006641040  AJ46FKXOVC7NR  Nicholas A Mesiano   \n",
       "424  417839  451856  B00004CXX9  AIUWLEQ1ADEG5    Elizabeth Medina   \n",
       "\n",
       "     HelpfulnessNumerator  HelpfulnessDenominator     Score       Time  \\\n",
       "0                       0                       0  positive 1999-10-08   \n",
       "30                      2                       2  positive 1999-10-25   \n",
       "424                     0                       0  positive 1999-12-02   \n",
       "\n",
       "                                               Summary  \\\n",
       "0                            EVERY book is educational   \n",
       "30   This whole series is great way to spend time w...   \n",
       "424                               Entertainingl Funny!   \n",
       "\n",
       "                                                  Text  \\\n",
       "0    this witty little book makes my son laugh at l...   \n",
       "30   I can remember seeing the show when it aired o...   \n",
       "424  Beetlejuice is a well written movie ..... ever...   \n",
       "\n",
       "                                             CleanText  \n",
       "0    witti littl book make son laugh loud recit car...  \n",
       "30   rememb see show air televis year ago child sis...  \n",
       "424  beetlejuic well written movi everyth excel act...  "
      ]
     },
     "execution_count": 43,
     "metadata": {},
     "output_type": "execute_result"
    }
   ],
   "source": [
    "data.head(3)"
   ]
  },
  {
   "cell_type": "code",
   "execution_count": 44,
   "metadata": {},
   "outputs": [
    {
     "data": {
      "text/plain": [
       "positive    307061\n",
       "negetive     57110\n",
       "Name: Score, dtype: int64"
      ]
     },
     "execution_count": 44,
     "metadata": {},
     "output_type": "execute_result"
    }
   ],
   "source": [
    "data[\"Score\"].value_counts()"
   ]
  },
  {
   "cell_type": "code",
   "execution_count": 45,
   "metadata": {},
   "outputs": [
    {
     "data": {
      "text/html": [
       "<div>\n",
       "<style scoped>\n",
       "    .dataframe tbody tr th:only-of-type {\n",
       "        vertical-align: middle;\n",
       "    }\n",
       "\n",
       "    .dataframe tbody tr th {\n",
       "        vertical-align: top;\n",
       "    }\n",
       "\n",
       "    .dataframe thead th {\n",
       "        text-align: right;\n",
       "    }\n",
       "</style>\n",
       "<table border=\"1\" class=\"dataframe\">\n",
       "  <thead>\n",
       "    <tr style=\"text-align: right;\">\n",
       "      <th></th>\n",
       "      <th>index</th>\n",
       "      <th>Id</th>\n",
       "      <th>ProductId</th>\n",
       "      <th>UserId</th>\n",
       "      <th>ProfileName</th>\n",
       "      <th>HelpfulnessNumerator</th>\n",
       "      <th>HelpfulnessDenominator</th>\n",
       "      <th>Score</th>\n",
       "      <th>Time</th>\n",
       "      <th>Summary</th>\n",
       "      <th>Text</th>\n",
       "      <th>CleanText</th>\n",
       "    </tr>\n",
       "  </thead>\n",
       "  <tbody>\n",
       "    <tr>\n",
       "      <th>0</th>\n",
       "      <td>138706</td>\n",
       "      <td>150524</td>\n",
       "      <td>0006641040</td>\n",
       "      <td>ACITT7DI6IDDL</td>\n",
       "      <td>shari zychinski</td>\n",
       "      <td>0</td>\n",
       "      <td>0</td>\n",
       "      <td>1</td>\n",
       "      <td>1999-10-08</td>\n",
       "      <td>EVERY book is educational</td>\n",
       "      <td>this witty little book makes my son laugh at l...</td>\n",
       "      <td>witti littl book make son laugh loud recit car...</td>\n",
       "    </tr>\n",
       "    <tr>\n",
       "      <th>30</th>\n",
       "      <td>138683</td>\n",
       "      <td>150501</td>\n",
       "      <td>0006641040</td>\n",
       "      <td>AJ46FKXOVC7NR</td>\n",
       "      <td>Nicholas A Mesiano</td>\n",
       "      <td>2</td>\n",
       "      <td>2</td>\n",
       "      <td>1</td>\n",
       "      <td>1999-10-25</td>\n",
       "      <td>This whole series is great way to spend time w...</td>\n",
       "      <td>I can remember seeing the show when it aired o...</td>\n",
       "      <td>rememb see show air televis year ago child sis...</td>\n",
       "    </tr>\n",
       "    <tr>\n",
       "      <th>424</th>\n",
       "      <td>417839</td>\n",
       "      <td>451856</td>\n",
       "      <td>B00004CXX9</td>\n",
       "      <td>AIUWLEQ1ADEG5</td>\n",
       "      <td>Elizabeth Medina</td>\n",
       "      <td>0</td>\n",
       "      <td>0</td>\n",
       "      <td>1</td>\n",
       "      <td>1999-12-02</td>\n",
       "      <td>Entertainingl Funny!</td>\n",
       "      <td>Beetlejuice is a well written movie ..... ever...</td>\n",
       "      <td>beetlejuic well written movi everyth excel act...</td>\n",
       "    </tr>\n",
       "  </tbody>\n",
       "</table>\n",
       "</div>"
      ],
      "text/plain": [
       "      index      Id   ProductId         UserId         ProfileName  \\\n",
       "0    138706  150524  0006641040  ACITT7DI6IDDL     shari zychinski   \n",
       "30   138683  150501  0006641040  AJ46FKXOVC7NR  Nicholas A Mesiano   \n",
       "424  417839  451856  B00004CXX9  AIUWLEQ1ADEG5    Elizabeth Medina   \n",
       "\n",
       "     HelpfulnessNumerator  HelpfulnessDenominator  Score       Time  \\\n",
       "0                       0                       0      1 1999-10-08   \n",
       "30                      2                       2      1 1999-10-25   \n",
       "424                     0                       0      1 1999-12-02   \n",
       "\n",
       "                                               Summary  \\\n",
       "0                            EVERY book is educational   \n",
       "30   This whole series is great way to spend time w...   \n",
       "424                               Entertainingl Funny!   \n",
       "\n",
       "                                                  Text  \\\n",
       "0    this witty little book makes my son laugh at l...   \n",
       "30   I can remember seeing the show when it aired o...   \n",
       "424  Beetlejuice is a well written movie ..... ever...   \n",
       "\n",
       "                                             CleanText  \n",
       "0    witti littl book make son laugh loud recit car...  \n",
       "30   rememb see show air televis year ago child sis...  \n",
       "424  beetlejuic well written movi everyth excel act...  "
      ]
     },
     "execution_count": 45,
     "metadata": {},
     "output_type": "execute_result"
    }
   ],
   "source": [
    "\n",
    "def Partition(x):\n",
    "    if x == \"positive\":\n",
    "        return 1\n",
    "    else:\n",
    "        return 0\n",
    "    \n",
    "actual_score = data['Score']\n",
    "pone = actual_score.map(Partition)\n",
    "data['Score'] = pone\n",
    "\n",
    "data.head(3)"
   ]
  },
  {
   "cell_type": "code",
   "execution_count": 46,
   "metadata": {},
   "outputs": [
    {
     "data": {
      "text/plain": [
       "1    307061\n",
       "0     57110\n",
       "Name: Score, dtype: int64"
      ]
     },
     "execution_count": 46,
     "metadata": {},
     "output_type": "execute_result"
    }
   ],
   "source": [
    "data[\"Score\"].value_counts()"
   ]
  },
  {
   "cell_type": "code",
   "execution_count": 47,
   "metadata": {},
   "outputs": [],
   "source": [
    "X = data[\"CleanText\"]\n",
    "y = data[\"Score\"]"
   ]
  },
  {
   "cell_type": "code",
   "execution_count": 48,
   "metadata": {},
   "outputs": [
    {
     "name": "stdout",
     "output_type": "stream",
     "text": [
      "(254919,) (109252,)\n"
     ]
    }
   ],
   "source": [
    "#Splitting sampe data in train and test dataset in  70:30\n",
    "%matplotlib inline\n",
    "import warnings\n",
    "warnings.filterwarnings(\"ignore\")\n",
    "from sklearn.model_selection import train_test_split\n",
    "#encoded_labels =data[\"Score\"].map(lambda x: 1 if x == 'positive' else 0).values\n",
    "\n",
    "X_train, X_test, y_train, y_test = train_test_split(X, y, test_size=0.3,random_state = 0)\n",
    "print(X_train.shape, X_test.shape)"
   ]
  },
  {
   "cell_type": "code",
   "execution_count": 49,
   "metadata": {},
   "outputs": [
    {
     "name": "stdout",
     "output_type": "stream",
     "text": [
      "(70000,) (30000,)\n"
     ]
    }
   ],
   "source": [
    "#Sampling 100k data pts in 70:30 train test\n",
    "\n",
    "X_tr = X_train.iloc[1:70001]\n",
    "y_tr = y_train.iloc[1:70001]\n",
    "Xt = X_test.iloc[1:30001]\n",
    "yt = y_test.iloc[1:30001]\n",
    "\n",
    "print(X_tr.shape,Xt.shape)"
   ]
  },
  {
   "cell_type": "code",
   "execution_count": 50,
   "metadata": {},
   "outputs": [],
   "source": [
    "from sklearn.linear_model import LogisticRegression\n",
    "from sklearn.model_selection import GridSearchCV\n",
    "from sklearn.model_selection import RandomizedSearchCV\n",
    "from scipy.stats import uniform  \n",
    "from sklearn.model_selection import TimeSeriesSplit\n",
    "\n",
    "# function to calculate hyperparameter using GridSearchCV\n",
    "def LRG(X_train,y_train,X_test, y_test,R):\n",
    "    tuned_parameters = [{'C': [10**-4,10**-3, 10**-2,10**-1, 10**0, 10,10**2, 10**3]}]\n",
    "    tscv = TimeSeriesSplit(n_splits=3)\n",
    "    \n",
    "    model = GridSearchCV(LogisticRegression(penalty = R, fit_intercept = False), tuned_parameters, scoring = 'f1_weighted', cv=tscv)\n",
    "    model.fit(X_train, y_train)\n",
    "   \n",
    "    x1=[]\n",
    "    y1=[]\n",
    "    x2=[]\n",
    "    y2=[]\n",
    "    for a in model.grid_scores_:\n",
    "        if (R == 'l1'):\n",
    "            y1.append(1-a[1])\n",
    "            x1.append(a[0]['C'])\n",
    "        else:\n",
    "            y2.append(1-a[1])\n",
    "            x2.append(a[0]['C'])\n",
    "    plt.xlim(-10,1010)\n",
    "    plt.ylim(0,0.2)\n",
    "    plt.xlabel(\"C\",fontsize=15)\n",
    "    plt.ylabel(\"Misclassification Error\")\n",
    "    plt.title('Misclassification Error v/s C')\n",
    "    plt.plot(x1,y1,'b',label=\"L1\")\n",
    "    plt.plot(x2,y2,'r',label=\"L2\")\n",
    "    plt.legend()\n",
    "    plt.show()\n",
    "    \n",
    "    print(model.best_estimator_)\n",
    "    print(\"\\nF1 score is :\")\n",
    "    print(model.score(X_test, y_test))\n",
    "    \n",
    "    pred = model.predict(X_test)\n",
    "    cm = confusion_matrix(y_test, pred)\n",
    "    print(\"\\nConfusion Matrix :\")\n",
    "    print(cm)\n",
    "    plt.figure()\n",
    "    heatmap = sns.heatmap(cm, annot=True, fmt=\"d\")\n",
    "    heatmap.yaxis.set_ticklabels(heatmap.yaxis.get_ticklabels(), rotation=0, ha='right')\n",
    "    heatmap.xaxis.set_ticklabels(heatmap.xaxis.get_ticklabels(), rotation=45, ha='right')\n",
    "    plt.ylabel('True label')\n",
    "    plt.xlabel('Predicted label')\n",
    "    plt.title(\"CONFUSION MATRIX \")\n",
    "    \n",
    "    acc = accuracy_score(y_test, pred, normalize=True) * float(100)\n",
    "    print('\\n****Test accuracy  is %d%%' % (acc))\n",
    "    \n",
    "    prs = precision_score(yt, pred, average='weighted')\n",
    "    print(\"\\nprecision score is \"+str(prs))\n",
    "    \n",
    "    rcs = recall_score(yt, pred, average='weighted')\n",
    "    print(\"\\nrecall score is \"+str(rcs))"
   ]
  },
  {
   "cell_type": "code",
   "execution_count": 51,
   "metadata": {},
   "outputs": [],
   "source": [
    "# function to calculate hyperparameter using RandomSearchCV\n",
    "def LRR(X_train,y_train,X_test, y_test,R):\n",
    "  \n",
    "    par = {'C':[1000,500,100,50,10,5,1,0.5,0.1,0.05,0.01,0.005,0.001,0.0005,0.0001]}\n",
    "    tscv = TimeSeriesSplit(n_splits=3)\n",
    "    \n",
    "    model = RandomizedSearchCV(LogisticRegression(penalty = R, fit_intercept = False), par, scoring = 'f1_weighted', cv=tscv)\n",
    "    model.fit(X_train, y_train)\n",
    "\n",
    "    x1=[]\n",
    "    y1=[]\n",
    "    x2=[]\n",
    "    y2=[]\n",
    "    for a in model.grid_scores_:\n",
    "        if (R == 'l1'):\n",
    "            y1.append(1-a[1])\n",
    "            x1.append(a[0]['C'])\n",
    "        else:\n",
    "            y2.append(1-a[1])\n",
    "            x2.append(a[0]['C'])\n",
    "    plt.xlim(-10,1010)\n",
    "    plt.ylim(0,0.2)\n",
    "    plt.xlabel(\"C\",fontsize=15)\n",
    "    plt.ylabel(\"Misclassification Error\")\n",
    "    plt.title('Misclassification Error v/s C')\n",
    "    plt.plot(x1,y1,'b',label=\"L1\")\n",
    "    plt.plot(x2,y2,'r',label=\"L2\")\n",
    "    plt.legend()\n",
    "    plt.show()\n",
    "    \n",
    "    print(model.best_estimator_)\n",
    "    print(\"\\nF1 score is :\")\n",
    "    print(model.score(X_test, y_test))\n",
    "    \n",
    "    pred = model.predict(X_test)\n",
    "    cm = confusion_matrix(y_test, pred)\n",
    "    print(\"\\nConfusion Matrix :\")\n",
    "    print(cm)\n",
    "    plt.figure()\n",
    "    heatmap = sns.heatmap(cm, annot=True, fmt=\"d\")\n",
    "    heatmap.yaxis.set_ticklabels(heatmap.yaxis.get_ticklabels(), rotation=0, ha='right')\n",
    "    heatmap.xaxis.set_ticklabels(heatmap.xaxis.get_ticklabels(), rotation=45, ha='right')\n",
    "    plt.ylabel('True label')\n",
    "    plt.xlabel('Predicted label')\n",
    "    plt.title(\"CONFUSION MATRIX \")\n",
    "    \n",
    "    acc = accuracy_score(y_test, pred, normalize=True) * float(100)\n",
    "    print('\\n****Test accuracy  is %d%%' % (acc))\n",
    "    \n",
    "    prs = precision_score(yt, pred, average='weighted')\n",
    "    print(\"\\nprecision score is \"+str(prs))\n",
    "    \n",
    "    rcs = recall_score(yt, pred, average='weighted')\n",
    "    print(\"\\nrecall score is \"+str(rcs))"
   ]
  },
  {
   "cell_type": "code",
   "execution_count": 52,
   "metadata": {},
   "outputs": [],
   "source": [
    "#function to find top feaures\n",
    "def show_most_informative_features(vectorizer,R, n=25):\n",
    "   \n",
    "    LR = LogisticRegression(penalty = 'l2',C=R)\n",
    "    LR.fit(Xtr,y_tr)\n",
    "    feature_names = vectorizer.get_feature_names()\n",
    "    coefs_with_fns = sorted(zip(LR.coef_[0], feature_names))\n",
    "    top = zip(coefs_with_fns[:n], coefs_with_fns[:-(n + 1):-1])\n",
    "    print(\"\\t\\tNegetive\\t\\t\\t\\t\\t\\tPositve\")\n",
    "    print(\"________________________________________________________________________________________________\")\n",
    "    for (coef_1, fn_1), (coef_2, fn_2) in top:\n",
    "        print(\"\\t\\t%s\\t\\t\\t\\t\\t%s\" % ( fn_1,  fn_2))\n"
   ]
  },
  {
   "cell_type": "markdown",
   "metadata": {},
   "source": [
    "<h3>BoW</h3>"
   ]
  },
  {
   "cell_type": "code",
   "execution_count": 21,
   "metadata": {},
   "outputs": [],
   "source": [
    "%matplotlib inline\n",
    "import warnings\n",
    "warnings.filterwarnings(\"ignore\")\n",
    "from sklearn.feature_extraction.text import CountVectorizer"
   ]
  },
  {
   "cell_type": "code",
   "execution_count": 22,
   "metadata": {},
   "outputs": [],
   "source": [
    "count_vect = CountVectorizer()\n",
    "X_tr = count_vect.fit_transform(X_tr)\n",
    "Xt = count_vect.transform(Xt)"
   ]
  },
  {
   "cell_type": "code",
   "execution_count": 23,
   "metadata": {},
   "outputs": [
    {
     "name": "stdout",
     "output_type": "stream",
     "text": [
      "the type of count vectorizer  <class 'scipy.sparse.csr.csr_matrix'>\n",
      "the shape of out text BOW vectorizer  (70000, 61998)\n",
      "the number of unique words  61998\n",
      "the shape of out text BOW vectorizer  (30000, 61998)\n",
      "the number of unique words  61998\n",
      "the shape of out text BOW vectorizer  (30000, 61998)\n",
      "the number of unique words  61998\n"
     ]
    }
   ],
   "source": [
    "print(\"the type of count vectorizer \",type(X_tr))\n",
    "print(\"the shape of out text BOW vectorizer \",X_tr.get_shape())\n",
    "print(\"the number of unique words \", X_tr.get_shape()[1])\n",
    "\n",
    "print(\"the shape of out text BOW vectorizer \",Xt.get_shape())\n",
    "print(\"the number of unique words \", Xt.get_shape()[1])\n",
    "\n",
    "print(\"the shape of out text BOW vectorizer \",Xt.get_shape())\n",
    "print(\"the number of unique words \", Xt.get_shape()[1])"
   ]
  },
  {
   "cell_type": "code",
   "execution_count": 24,
   "metadata": {},
   "outputs": [
    {
     "data": {
      "text/plain": [
       "<30000x61998 sparse matrix of type '<class 'numpy.float64'>'\n",
       "\twith 945853 stored elements in Compressed Sparse Row format>"
      ]
     },
     "execution_count": 24,
     "metadata": {},
     "output_type": "execute_result"
    }
   ],
   "source": [
    "from sklearn.preprocessing import StandardScaler\n",
    "scaler = StandardScaler(with_mean=False)\n",
    "scaler.fit_transform(X_tr)\n",
    "scaler.transform(Xt)"
   ]
  },
  {
   "cell_type": "code",
   "execution_count": 44,
   "metadata": {},
   "outputs": [
    {
     "name": "stdout",
     "output_type": "stream",
     "text": [
      "Wall time: 0 ns\n"
     ]
    },
    {
     "data": {
      "image/png": "[encoded data removed]",
      "text/plain": [
       "<Figure size 432x288 with 1 Axes>"
      ]
     },
     "metadata": {
      "needs_background": "light"
     },
     "output_type": "display_data"
    },
    {
     "name": "stdout",
     "output_type": "stream",
     "text": [
      "LogisticRegression(C=0.1, class_weight=None, dual=False, fit_intercept=False,\n",
      "          intercept_scaling=1, max_iter=100, multi_class='ovr', n_jobs=1,\n",
      "          penalty='l2', random_state=None, solver='liblinear', tol=0.0001,\n",
      "          verbose=0, warm_start=False)\n",
      "\n",
      "F1 score is :\n",
      "0.9146119269868495\n",
      "\n",
      "Confusion Matrix :\n",
      "[[ 3147  1604]\n",
      " [  872 24377]]\n",
      "\n",
      "****Test accuracy  is 91%\n",
      "\n",
      "precision score is 0.9136790065530339\n",
      "\n",
      "recall score is 0.9174666666666667\n"
     ]
    },
    {
     "data": {
      "image/png": "[encoded data removed]",
      "text/plain": [
       "<Figure size 432x288 with 2 Axes>"
      ]
     },
     "metadata": {
      "needs_background": "light"
     },
     "output_type": "display_data"
    }
   ],
   "source": [
    "LRG(X_tr,y_tr,Xt, yt,'l2')"
   ]
  },
  {
   "cell_type": "code",
   "execution_count": 47,
   "metadata": {},
   "outputs": [
    {
     "name": "stdout",
     "output_type": "stream",
     "text": [
      "Wall time: 0 ns\n"
     ]
    },
    {
     "data": {
      "image/png": "[encoded data removed]",
      "text/plain": [
       "<Figure size 432x288 with 1 Axes>"
      ]
     },
     "metadata": {
      "needs_background": "light"
     },
     "output_type": "display_data"
    },
    {
     "name": "stdout",
     "output_type": "stream",
     "text": [
      "LogisticRegression(C=0.5, class_weight=None, dual=False, fit_intercept=False,\n",
      "          intercept_scaling=1, max_iter=100, multi_class='ovr', n_jobs=1,\n",
      "          penalty='l2', random_state=None, solver='liblinear', tol=0.0001,\n",
      "          verbose=0, warm_start=False)\n",
      "\n",
      "F1 score is :\n",
      "0.9146081545596565\n",
      "\n",
      "Confusion Matrix :\n",
      "[[ 3247  1504]\n",
      " [ 1000 24249]]\n",
      "\n",
      "****Test accuracy  is 91%\n",
      "\n",
      "precision score is 0.9135587360527304\n",
      "\n",
      "recall score is 0.9165333333333333\n"
     ]
    },
    {
     "data": {
      "image/png": "[encoded data removed]",
      "text/plain": [
       "<Figure size 432x288 with 2 Axes>"
      ]
     },
     "metadata": {
      "needs_background": "light"
     },
     "output_type": "display_data"
    }
   ],
   "source": [
    "LRR(X_tr,y_tr,Xt, yt,'l2')"
   ]
  },
  {
   "cell_type": "markdown",
   "metadata": {},
   "source": [
    "<strong>PERTURBATION TEST</strong>"
   ]
  },
  {
   "cell_type": "code",
   "execution_count": 48,
   "metadata": {},
   "outputs": [
    {
     "name": "stdout",
     "output_type": "stream",
     "text": [
      "Accuracy on test set: 91.640%\n",
      "F1-Score on test set: 0.952\n",
      "61998\n"
     ]
    }
   ],
   "source": [
    "clf = LogisticRegression(C= 0.1, penalty= 'l2')\n",
    "clf.fit(X_tr,y_tr)\n",
    "y_pred = clf.predict(Xt)\n",
    "w = clf.coef_\n",
    "print(\"Accuracy on test set: %0.3f%%\"%(accuracy_score(yt, y_pred)*100))\n",
    "print(\"F1-Score on test set: %0.3f\"%(f1_score(yt, y_pred)))\n",
    "print(w.size)"
   ]
  },
  {
   "cell_type": "code",
   "execution_count": 49,
   "metadata": {},
   "outputs": [],
   "source": [
    "X_tr.data = X_tr.data + 0.001"
   ]
  },
  {
   "cell_type": "code",
   "execution_count": 50,
   "metadata": {},
   "outputs": [
    {
     "name": "stdout",
     "output_type": "stream",
     "text": [
      "Accuracy on test set: 91.640%\n",
      "F1-Score on test set: 0.952\n",
      "61998\n"
     ]
    }
   ],
   "source": [
    "clf = LogisticRegression(C= 0.1, penalty= 'l2')\n",
    "clf.fit(X_tr,y_tr)\n",
    "y_pred = clf.predict(Xt)\n",
    "w1 = clf.coef_\n",
    "print(\"Accuracy on test set: %0.3f%%\"%(accuracy_score(yt, y_pred)*100))\n",
    "print(\"F1-Score on test set: %0.3f\"%(f1_score(yt, y_pred)))\n",
    "W1 = np.count_nonzero(w)\n",
    "print(W1)"
   ]
  },
  {
   "cell_type": "code",
   "execution_count": 51,
   "metadata": {},
   "outputs": [
    {
     "name": "stdout",
     "output_type": "stream",
     "text": [
      "[[ 0.08239598 -0.01236611 -0.0877336  ...  0.05234205 -0.07895468\n",
      "   0.11283657]]\n"
     ]
    }
   ],
   "source": [
    "weights_diff = ((abs(w - w1)/w) * 100)\n",
    "print(weights_diff)"
   ]
  },
  {
   "cell_type": "code",
   "execution_count": 52,
   "metadata": {},
   "outputs": [
    {
     "name": "stdout",
     "output_type": "stream",
     "text": [
      "70\n"
     ]
    }
   ],
   "source": [
    "print(weights_diff[np.where(weights_diff > 30)].size)"
   ]
  },
  {
   "cell_type": "markdown",
   "metadata": {},
   "source": [
    "<strong>70 features have weight changes greater than 30% so they are multi-collinear</strong> "
   ]
  },
  {
   "cell_type": "code",
   "execution_count": 53,
   "metadata": {},
   "outputs": [
    {
     "data": {
      "image/png": "[encoded data removed]",
      "text/plain": [
       "<Figure size 432x288 with 1 Axes>"
      ]
     },
     "metadata": {
      "needs_background": "light"
     },
     "output_type": "display_data"
    },
    {
     "name": "stdout",
     "output_type": "stream",
     "text": [
      "LogisticRegression(C=1, class_weight=None, dual=False, fit_intercept=False,\n",
      "          intercept_scaling=1, max_iter=100, multi_class='ovr', n_jobs=1,\n",
      "          penalty='l1', random_state=None, solver='liblinear', tol=0.0001,\n",
      "          verbose=0, warm_start=False)\n",
      "\n",
      "F1 score is :\n",
      "0.9111683615916113\n",
      "\n",
      "Confusion Matrix :\n",
      "[[ 3236  1515]\n",
      " [ 1101 24148]]\n",
      "\n",
      "****Test accuracy  is 91%\n",
      "\n",
      "precision score is 0.910111377613623\n",
      "\n",
      "recall score is 0.9128\n"
     ]
    },
    {
     "data": {
      "image/png": "[encoded data removed]",
      "text/plain": [
       "<Figure size 432x288 with 2 Axes>"
      ]
     },
     "metadata": {
      "needs_background": "light"
     },
     "output_type": "display_data"
    }
   ],
   "source": [
    "LRG(X_tr,y_tr,Xt, yt,'l1')"
   ]
  },
  {
   "cell_type": "code",
   "execution_count": 54,
   "metadata": {},
   "outputs": [
    {
     "name": "stdout",
     "output_type": "stream",
     "text": [
      "Wall time: 0 ns\n"
     ]
    },
    {
     "data": {
      "image/png": "[encoded data removed]",
      "text/plain": [
       "<Figure size 432x288 with 1 Axes>"
      ]
     },
     "metadata": {
      "needs_background": "light"
     },
     "output_type": "display_data"
    },
    {
     "name": "stdout",
     "output_type": "stream",
     "text": [
      "LogisticRegression(C=0.5, class_weight=None, dual=False, fit_intercept=False,\n",
      "          intercept_scaling=1, max_iter=100, multi_class='ovr', n_jobs=1,\n",
      "          penalty='l1', random_state=None, solver='liblinear', tol=0.0001,\n",
      "          verbose=0, warm_start=False)\n",
      "\n",
      "F1 score is :\n",
      "0.9142739245454398\n",
      "\n",
      "Confusion Matrix :\n",
      "[[ 3221  1530]\n",
      " [  978 24271]]\n",
      "\n",
      "****Test accuracy  is 91%\n",
      "\n",
      "precision score is 0.9132055286916322\n",
      "\n",
      "recall score is 0.9164\n"
     ]
    },
    {
     "data": {
      "image/png": "[encoded data removed]",
      "text/plain": [
       "<Figure size 432x288 with 2 Axes>"
      ]
     },
     "metadata": {
      "needs_background": "light"
     },
     "output_type": "display_data"
    }
   ],
   "source": [
    "LRR(X_tr,y_tr,Xt, yt,'l1')"
   ]
  },
  {
   "cell_type": "markdown",
   "metadata": {},
   "source": [
    "<strong>Sparsity Test</strong>"
   ]
  },
  {
   "cell_type": "code",
   "execution_count": 55,
   "metadata": {},
   "outputs": [
    {
     "name": "stdout",
     "output_type": "stream",
     "text": [
      "Accuracy on test set: 91.417%\n",
      "F1-Score on test set: 0.950\n",
      "Non Zero weights: 4459\n"
     ]
    }
   ],
   "source": [
    "clf = LogisticRegression(C= 1, penalty= 'l1')\n",
    "clf.fit(X_tr,y_tr)\n",
    "y_pred = clf.predict(Xt)\n",
    "print(\"Accuracy on test set: %0.3f%%\"%(accuracy_score(yt, y_pred)*100))\n",
    "print(\"F1-Score on test set: %0.3f\"%(f1_score(yt, y_pred)))\n",
    "print(\"Non Zero weights:\",np.count_nonzero(clf.coef_))"
   ]
  },
  {
   "cell_type": "code",
   "execution_count": 56,
   "metadata": {},
   "outputs": [
    {
     "name": "stdout",
     "output_type": "stream",
     "text": [
      "Accuracy on test set: 91.230%\n",
      "F1-Score on test set: 0.949\n",
      "Non Zero weights: 885\n"
     ]
    }
   ],
   "source": [
    "clf = LogisticRegression(C= 0.1, penalty= 'l1')\n",
    "clf.fit(X_tr,y_tr)\n",
    "y_pred = clf.predict(Xt)\n",
    "print(\"Accuracy on test set: %0.3f%%\"%(accuracy_score(yt, y_pred)*100))\n",
    "print(\"F1-Score on test set: %0.3f\"%(f1_score(yt, y_pred)))\n",
    "print(\"Non Zero weights:\",np.count_nonzero(clf.coef_))"
   ]
  },
  {
   "cell_type": "code",
   "execution_count": 57,
   "metadata": {},
   "outputs": [
    {
     "name": "stdout",
     "output_type": "stream",
     "text": [
      "Accuracy on test set: 84.160%\n",
      "F1-Score on test set: 0.914\n",
      "Non Zero weights: 7\n"
     ]
    }
   ],
   "source": [
    "clf = LogisticRegression(C= 0.001, penalty= 'l1')\n",
    "clf.fit(X_tr,y_tr)\n",
    "y_pred = clf.predict(Xt)\n",
    "print(\"Accuracy on test set: %0.3f%%\"%(accuracy_score(yt, y_pred)*100))\n",
    "print(\"F1-Score on test set: %0.3f\"%(f1_score(yt, y_pred)))\n",
    "print(\"Non Zero weights:\",np.count_nonzero(clf.coef_))"
   ]
  },
  {
   "cell_type": "markdown",
   "metadata": {},
   "source": [
    "<Strong>We can see how drastically the sparsity increases from 4459 non-zero weights(C=1) to only 7 non-zero weights( C=0.001) when we use L1 Regularization</Strong>"
   ]
  },
  {
   "cell_type": "code",
   "execution_count": 60,
   "metadata": {},
   "outputs": [
    {
     "name": "stdout",
     "output_type": "stream",
     "text": [
      "\t\tNegetive\t\t\t\t\t\tPositve\n",
      "________________________________________________________________________________________________\n",
      "\t\tworst\t\t\t\t\tdelici\n",
      "\t\tterribl\t\t\t\t\texcel\n",
      "\t\taw\t\t\t\t\tperfect\n",
      "\t\tdisappoint\t\t\t\t\tbest\n",
      "\t\tunfortun\t\t\t\t\tworri\n",
      "\t\ttasteless\t\t\t\t\tgreat\n",
      "\t\thorribl\t\t\t\t\tamaz\n",
      "\t\tstale\t\t\t\t\tawesom\n",
      "\t\tdisgust\t\t\t\t\tsmooth\n",
      "\t\truin\t\t\t\t\thook\n",
      "\t\tthrew\t\t\t\t\tfantast\n",
      "\t\treturn\t\t\t\t\thesit\n",
      "\t\tweak\t\t\t\t\tnice\n",
      "\t\tbland\t\t\t\t\tfavorit\n",
      "\t\tyuck\t\t\t\t\tsatisfi\n",
      "\t\tsorri\t\t\t\t\tyum\n",
      "\t\tpoor\t\t\t\t\tcomplaint\n",
      "\t\tgross\t\t\t\t\taddict\n",
      "\t\tunpleas\t\t\t\t\thappi\n",
      "\t\tcancel\t\t\t\t\tbeat\n",
      "\t\tconcept\t\t\t\t\tlove\n",
      "\t\tearth\t\t\t\t\twonder\n",
      "\t\twast\t\t\t\t\tpleasant\n",
      "\t\tsad\t\t\t\t\tskeptic\n",
      "\t\twors\t\t\t\t\tglad\n"
     ]
    }
   ],
   "source": [
    "show_most_informative_features(count_vect,0.1)"
   ]
  },
  {
   "cell_type": "markdown",
   "metadata": {},
   "source": [
    "<h3>TF-IDF</h3>"
   ]
  },
  {
   "cell_type": "code",
   "execution_count": 18,
   "metadata": {},
   "outputs": [],
   "source": [
    "from sklearn.feature_extraction.text import TfidfVectorizer\n",
    "\n",
    "tf_idf_vect = TfidfVectorizer()\n",
    "Xtr = tf_idf_vect.fit_transform(X_tr)\n",
    "X_t = tf_idf_vect.transform(Xt)"
   ]
  },
  {
   "cell_type": "code",
   "execution_count": 19,
   "metadata": {},
   "outputs": [
    {
     "data": {
      "text/plain": [
       "<30000x61998 sparse matrix of type '<class 'numpy.float64'>'\n",
       "\twith 945853 stored elements in Compressed Sparse Row format>"
      ]
     },
     "execution_count": 19,
     "metadata": {},
     "output_type": "execute_result"
    }
   ],
   "source": [
    "from sklearn.preprocessing import StandardScaler\n",
    "scaler = StandardScaler(with_mean=False)\n",
    "scaler.fit_transform(Xtr)\n",
    "scaler.transform(X_t)"
   ]
  },
  {
   "cell_type": "code",
   "execution_count": 22,
   "metadata": {},
   "outputs": [
    {
     "data": {
      "image/png": "[encoded data removed]",
      "text/plain": [
       "<Figure size 432x288 with 1 Axes>"
      ]
     },
     "metadata": {
      "needs_background": "light"
     },
     "output_type": "display_data"
    },
    {
     "name": "stdout",
     "output_type": "stream",
     "text": [
      "LogisticRegression(C=10, class_weight=None, dual=False, fit_intercept=False,\n",
      "          intercept_scaling=1, max_iter=100, multi_class='ovr', n_jobs=1,\n",
      "          penalty='l2', random_state=None, solver='liblinear', tol=0.0001,\n",
      "          verbose=0, warm_start=False)\n",
      "\n",
      "F1 score is :\n",
      "0.914292423930863\n",
      "\n",
      "Confusion Matrix :\n",
      "[[ 3131  1620]\n",
      " [  862 24387]]\n",
      "\n",
      "****Test accuracy  is 91%\n",
      "\n",
      "precision score is 0.9133860385582102\n",
      "\n",
      "recall score is 0.9172666666666667\n"
     ]
    },
    {
     "data": {
      "image/png": "[encoded data removed]",
      "text/plain": [
       "<Figure size 432x288 with 2 Axes>"
      ]
     },
     "metadata": {
      "needs_background": "light"
     },
     "output_type": "display_data"
    }
   ],
   "source": [
    "LRG(Xtr,y_tr,X_t, yt,'l2')"
   ]
  },
  {
   "cell_type": "code",
   "execution_count": 21,
   "metadata": {},
   "outputs": [
    {
     "data": {
      "image/png": "[encoded data removed]",
      "text/plain": [
       "<Figure size 432x288 with 1 Axes>"
      ]
     },
     "metadata": {
      "needs_background": "light"
     },
     "output_type": "display_data"
    },
    {
     "name": "stdout",
     "output_type": "stream",
     "text": [
      "LogisticRegression(C=5, class_weight=None, dual=False, fit_intercept=False,\n",
      "          intercept_scaling=1, max_iter=100, multi_class='ovr', n_jobs=1,\n",
      "          penalty='l2', random_state=None, solver='liblinear', tol=0.0001,\n",
      "          verbose=0, warm_start=False)\n",
      "\n",
      "F1 score is :\n",
      "0.9149580557568119\n",
      "\n",
      "Confusion Matrix :\n",
      "[[ 3076  1675]\n",
      " [  769 24480]]\n",
      "\n",
      "****Test accuracy  is 91%\n",
      "\n",
      "precision score is 0.9144273803606703\n",
      "\n",
      "recall score is 0.9185333333333333\n"
     ]
    },
    {
     "data": {
      "image/png": "[encoded data removed]",
      "text/plain": [
       "<Figure size 432x288 with 2 Axes>"
      ]
     },
     "metadata": {
      "needs_background": "light"
     },
     "output_type": "display_data"
    }
   ],
   "source": [
    "LRR(Xtr,y_tr,X_t, yt,'l2')"
   ]
  },
  {
   "cell_type": "markdown",
   "metadata": {},
   "source": [
    "<strong>PERTURBATION TEST</strong>"
   ]
  },
  {
   "cell_type": "code",
   "execution_count": 30,
   "metadata": {},
   "outputs": [
    {
     "name": "stdout",
     "output_type": "stream",
     "text": [
      "Accuracy on test set: 91.887%\n",
      "F1-Score on test set: 0.953\n",
      "61998\n"
     ]
    }
   ],
   "source": [
    "clf = LogisticRegression(C= 5, penalty= 'l2')\n",
    "clf.fit(Xtr,y_tr)\n",
    "y_pred = clf.predict(X_t)\n",
    "w = clf.coef_\n",
    "print(\"Accuracy on test set: %0.3f%%\"%(accuracy_score(yt, y_pred)*100))\n",
    "print(\"F1-Score on test set: %0.3f\"%(f1_score(yt, y_pred)))\n",
    "print(w.size)"
   ]
  },
  {
   "cell_type": "code",
   "execution_count": 31,
   "metadata": {},
   "outputs": [],
   "source": [
    "Xtr.data = Xtr.data + 0.001"
   ]
  },
  {
   "cell_type": "code",
   "execution_count": 32,
   "metadata": {},
   "outputs": [
    {
     "name": "stdout",
     "output_type": "stream",
     "text": [
      "Accuracy on test set: 91.887%\n",
      "F1-Score on test set: 0.953\n",
      "61998\n"
     ]
    }
   ],
   "source": [
    "clf = LogisticRegression(C= 5, penalty= 'l2')\n",
    "clf.fit(Xtr,y_tr)\n",
    "y_pred = clf.predict(X_t)\n",
    "w1 = clf.coef_\n",
    "print(\"Accuracy on test set: %0.3f%%\"%(accuracy_score(yt, y_pred)*100))\n",
    "print(\"F1-Score on test set: %0.3f\"%(f1_score(yt, y_pred)))\n",
    "print(w1.size)"
   ]
  },
  {
   "cell_type": "code",
   "execution_count": 33,
   "metadata": {},
   "outputs": [
    {
     "name": "stdout",
     "output_type": "stream",
     "text": [
      "[[ 2.37102531 -2.39225092 -0.30196194 ...  1.63830717 -0.1087783\n",
      "   3.83151365]]\n"
     ]
    }
   ],
   "source": [
    "weights_diff = ((abs(w - w1)/w) * 100)\n",
    "print(weights_diff)"
   ]
  },
  {
   "cell_type": "code",
   "execution_count": 34,
   "metadata": {},
   "outputs": [
    {
     "name": "stdout",
     "output_type": "stream",
     "text": [
      "52\n"
     ]
    }
   ],
   "source": [
    "print(weights_diff[np.where(weights_diff > 30)].size)"
   ]
  },
  {
   "cell_type": "markdown",
   "metadata": {},
   "source": [
    "<strong>52 features have weight changes greater than 30% so they are multi-collinear</strong> "
   ]
  },
  {
   "cell_type": "code",
   "execution_count": 23,
   "metadata": {},
   "outputs": [
    {
     "data": {
      "image/png": "[encoded data removed]",
      "text/plain": [
       "<Figure size 432x288 with 1 Axes>"
      ]
     },
     "metadata": {
      "needs_background": "light"
     },
     "output_type": "display_data"
    },
    {
     "name": "stdout",
     "output_type": "stream",
     "text": [
      "LogisticRegression(C=1, class_weight=None, dual=False, fit_intercept=False,\n",
      "          intercept_scaling=1, max_iter=100, multi_class='ovr', n_jobs=1,\n",
      "          penalty='l1', random_state=None, solver='liblinear', tol=0.0001,\n",
      "          verbose=0, warm_start=False)\n",
      "\n",
      "F1 score is :\n",
      "0.9132836424611497\n",
      "\n",
      "Confusion Matrix :\n",
      "[[ 3012  1739]\n",
      " [  741 24508]]\n",
      "\n",
      "****Test accuracy  is 91%\n",
      "\n",
      "precision score is 0.9129691839472377\n",
      "\n",
      "recall score is 0.9173333333333333\n"
     ]
    },
    {
     "data": {
      "image/png": "[encoded data removed]",
      "text/plain": [
       "<Figure size 432x288 with 2 Axes>"
      ]
     },
     "metadata": {
      "needs_background": "light"
     },
     "output_type": "display_data"
    }
   ],
   "source": [
    "LRG(Xtr,y_tr,X_t, yt,'l1')"
   ]
  },
  {
   "cell_type": "code",
   "execution_count": 24,
   "metadata": {},
   "outputs": [
    {
     "data": {
      "image/png": "[encoded data removed]",
      "text/plain": [
       "<Figure size 432x288 with 1 Axes>"
      ]
     },
     "metadata": {
      "needs_background": "light"
     },
     "output_type": "display_data"
    },
    {
     "name": "stdout",
     "output_type": "stream",
     "text": [
      "LogisticRegression(C=5, class_weight=None, dual=False, fit_intercept=False,\n",
      "          intercept_scaling=1, max_iter=100, multi_class='ovr', n_jobs=1,\n",
      "          penalty='l1', random_state=None, solver='liblinear', tol=0.0001,\n",
      "          verbose=0, warm_start=False)\n",
      "\n",
      "F1 score is :\n",
      "0.9132812319767186\n",
      "\n",
      "Confusion Matrix :\n",
      "[[ 3185  1566]\n",
      " [  965 24284]]\n",
      "\n",
      "****Test accuracy  is 91%\n",
      "\n",
      "precision score is 0.9121886046778993\n",
      "\n",
      "recall score is 0.9156333333333333\n"
     ]
    },
    {
     "data": {
      "image/png": "[encoded data removed]",
      "text/plain": [
       "<Figure size 432x288 with 2 Axes>"
      ]
     },
     "metadata": {
      "needs_background": "light"
     },
     "output_type": "display_data"
    }
   ],
   "source": [
    "LRR(Xtr,y_tr,X_t, yt,'l1')"
   ]
  },
  {
   "cell_type": "markdown",
   "metadata": {},
   "source": [
    "<strong>Sparsity Test</strong>"
   ]
  },
  {
   "cell_type": "code",
   "execution_count": 35,
   "metadata": {},
   "outputs": [
    {
     "name": "stdout",
     "output_type": "stream",
     "text": [
      "Accuracy on test set: 91.683%\n",
      "F1-Score on test set: 0.952\n",
      "Non Zero weights: 1381\n"
     ]
    }
   ],
   "source": [
    "clf = LogisticRegression(C= 1, penalty= 'l1')\n",
    "clf.fit(Xtr,y_tr)\n",
    "y_pred = clf.predict(X_t)\n",
    "print(\"Accuracy on test set: %0.3f%%\"%(accuracy_score(yt, y_pred)*100))\n",
    "print(\"F1-Score on test set: %0.3f\"%(f1_score(yt, y_pred)))\n",
    "print(\"Non Zero weights:\",np.count_nonzero(clf.coef_))"
   ]
  },
  {
   "cell_type": "code",
   "execution_count": 36,
   "metadata": {},
   "outputs": [
    {
     "name": "stdout",
     "output_type": "stream",
     "text": [
      "Accuracy on test set: 89.040%\n",
      "F1-Score on test set: 0.938\n",
      "Non Zero weights: 211\n"
     ]
    }
   ],
   "source": [
    "clf = LogisticRegression(C= 0.1, penalty= 'l1')\n",
    "clf.fit(Xtr,y_tr)\n",
    "y_pred = clf.predict(X_t)\n",
    "print(\"Accuracy on test set: %0.3f%%\"%(accuracy_score(yt, y_pred)*100))\n",
    "print(\"F1-Score on test set: %0.3f\"%(f1_score(yt, y_pred)))\n",
    "print(\"Non Zero weights:\",np.count_nonzero(clf.coef_))"
   ]
  },
  {
   "cell_type": "code",
   "execution_count": 37,
   "metadata": {},
   "outputs": [
    {
     "name": "stdout",
     "output_type": "stream",
     "text": [
      "Accuracy on test set: 84.167%\n",
      "F1-Score on test set: 0.914\n",
      "Non Zero weights: 6\n"
     ]
    }
   ],
   "source": [
    "clf = LogisticRegression(C= 0.01, penalty= 'l1')\n",
    "clf.fit(Xtr,y_tr)\n",
    "y_pred = clf.predict(X_t)\n",
    "print(\"Accuracy on test set: %0.3f%%\"%(accuracy_score(yt, y_pred)*100))\n",
    "print(\"F1-Score on test set: %0.3f\"%(f1_score(yt, y_pred)))\n",
    "print(\"Non Zero weights:\",np.count_nonzero(clf.coef_))"
   ]
  },
  {
   "cell_type": "markdown",
   "metadata": {},
   "source": [
    "<Strong>We can see how drastically the sparsity increases from 1381 non-zero weights(C=1) to only 6 non-zero weights( C=0.001) when we use L1 Regularization</Strong>"
   ]
  },
  {
   "cell_type": "code",
   "execution_count": 27,
   "metadata": {},
   "outputs": [
    {
     "name": "stdout",
     "output_type": "stream",
     "text": [
      "\t\tNegetive\t\t\t\t\t\tPositve\n",
      "________________________________________________________________________________________________\n",
      "\t\tworst\t\t\t\t\tgreat\n",
      "\t\tterribl\t\t\t\t\tbest\n",
      "\t\tdisappoint\t\t\t\t\tdelici\n",
      "\t\taw\t\t\t\t\tperfect\n",
      "\t\tunfortun\t\t\t\t\tlove\n",
      "\t\ttasteless\t\t\t\t\tworri\n",
      "\t\thorribl\t\t\t\t\texcel\n",
      "\t\treturn\t\t\t\t\tamaz\n",
      "\t\tdisgust\t\t\t\t\thook\n",
      "\t\tstale\t\t\t\t\tawesom\n",
      "\t\tyuck\t\t\t\t\tnice\n",
      "\t\tthrew\t\t\t\t\tgood\n",
      "\t\tmediocr\t\t\t\t\tsmooth\n",
      "\t\twast\t\t\t\t\tfantast\n",
      "\t\tbland\t\t\t\t\tfavorit\n",
      "\t\truin\t\t\t\t\tdownsid\n",
      "\t\tunpleas\t\t\t\t\twonder\n",
      "\t\thype\t\t\t\t\taddict\n",
      "\t\tundrink\t\t\t\t\tbeat\n",
      "\t\tgross\t\t\t\t\tyum\n",
      "\t\tweak\t\t\t\t\tskeptic\n",
      "\t\tflavorless\t\t\t\t\tthank\n",
      "\t\tpoor\t\t\t\t\thesit\n",
      "\t\tunimpress\t\t\t\t\tterrif\n",
      "\t\tconcept\t\t\t\t\tsatisfi\n"
     ]
    }
   ],
   "source": [
    "show_most_informative_features(tf_idf_vect,10)"
   ]
  },
  {
   "cell_type": "markdown",
   "metadata": {},
   "source": [
    "<h3>word2vec</h3>"
   ]
  },
  {
   "cell_type": "code",
   "execution_count": 53,
   "metadata": {},
   "outputs": [],
   "source": [
    "# Trainning Word2Vec model using own text corpus\n",
    "i=0\n",
    "list_of_sent=[]\n",
    "for sent in X_tr.values: \n",
    "    list_of_sent.append(sent.split())"
   ]
  },
  {
   "cell_type": "code",
   "execution_count": 54,
   "metadata": {},
   "outputs": [],
   "source": [
    "# Trainning Word2Vec model using own text corpus\n",
    "i=0\n",
    "list_of_sent_test=[]\n",
    "for sent in Xt.values: \n",
    "    list_of_sent_test.append(sent.split())"
   ]
  },
  {
   "cell_type": "code",
   "execution_count": 55,
   "metadata": {},
   "outputs": [],
   "source": [
    "# min_count = 5 considers only words that occured atleast 5 times\n",
    "import warnings\n",
    "warnings.filterwarnings(\"ignore\")\n",
    "\n",
    "from gensim.models import Word2Vec\n",
    "from gensim.models import KeyedVectors\n",
    "\n",
    "w2v_model=Word2Vec(list_of_sent,min_count=5,size=50, workers=3)"
   ]
  },
  {
   "cell_type": "code",
   "execution_count": 56,
   "metadata": {},
   "outputs": [],
   "source": [
    "w2v_words = list(w2v_model.wv.vocab)"
   ]
  },
  {
   "cell_type": "markdown",
   "metadata": {},
   "source": [
    "<h3>Average Word2Vec </h3>"
   ]
  },
  {
   "cell_type": "code",
   "execution_count": 25,
   "metadata": {},
   "outputs": [
    {
     "name": "stdout",
     "output_type": "stream",
     "text": [
      "70000\n",
      "50\n"
     ]
    }
   ],
   "source": [
    "sent_vectors = []; # the avg-w2v for each sentence/review is stored in this list\n",
    "for sent in list_of_sent: # for each review/sentence\n",
    "    sent_vec = np.zeros(50) # as word vectors are of zero length\n",
    "    cnt_words =0; # num of words with a valid vector in the sentence/review\n",
    "    for word in sent: # for each word in a review/sentence\n",
    "        try:\n",
    "            vec = w2v_model.wv[word]\n",
    "            sent_vec += vec\n",
    "            cnt_words += 1\n",
    "        except:\n",
    "            pass\n",
    "    sent_vec /= cnt_words\n",
    "    sent_vectors.append(sent_vec)\n",
    "print(len(sent_vectors))\n",
    "print(len(sent_vectors[0]))"
   ]
  },
  {
   "cell_type": "code",
   "execution_count": 26,
   "metadata": {},
   "outputs": [
    {
     "name": "stdout",
     "output_type": "stream",
     "text": [
      "30000\n",
      "50\n"
     ]
    }
   ],
   "source": [
    "sent_vectors_test = []; # the avg-w2v for each sentence/review is stored in this list\n",
    "for sent in list_of_sent_test: # for each review/sentence\n",
    "    sent_vec = np.zeros(50) # as word vectors are of zero length\n",
    "    cnt_words =0; # num of words with a valid vector in the sentence/review\n",
    "    for word in sent: # for each word in a review/sentence\n",
    "        try:\n",
    "            vec = w2v_model.wv[word]\n",
    "            sent_vec += vec\n",
    "            cnt_words += 1\n",
    "        except:\n",
    "            pass\n",
    "    sent_vec /= cnt_words\n",
    "    sent_vectors_test.append(sent_vec)\n",
    "print(len(sent_vectors_test))\n",
    "print(len(sent_vectors_test[0]))"
   ]
  },
  {
   "cell_type": "code",
   "execution_count": 27,
   "metadata": {},
   "outputs": [],
   "source": [
    "X_tr = sent_vectors\n",
    "Xt = sent_vectors_test"
   ]
  },
  {
   "cell_type": "code",
   "execution_count": 28,
   "metadata": {},
   "outputs": [
    {
     "data": {
      "text/plain": [
       "array([[ 0.14527814,  0.71667813,  0.92415833, ..., -2.06075717,\n",
       "        -0.11806437,  0.20336567],\n",
       "       [ 1.44916332, -0.376135  ,  1.44927581, ..., -0.58768458,\n",
       "        -0.68561667,  0.3747107 ],\n",
       "       [ 0.25314813, -1.18300348,  1.19257742, ...,  0.39264422,\n",
       "        -0.97221455, -0.80145811],\n",
       "       ...,\n",
       "       [ 0.91396587,  1.18562262, -2.73709179, ...,  0.07364151,\n",
       "         2.95678782,  1.26077431],\n",
       "       [ 0.00588495,  0.22087907,  0.34181672, ...,  0.34606831,\n",
       "         1.48139917, -0.4372447 ],\n",
       "       [-0.70706668, -0.53914363, -0.98243212, ..., -0.38148446,\n",
       "        -0.84976337,  1.61473491]])"
      ]
     },
     "execution_count": 28,
     "metadata": {},
     "output_type": "execute_result"
    }
   ],
   "source": [
    "from sklearn.preprocessing import StandardScaler\n",
    "scaler = StandardScaler()\n",
    "scaler.fit_transform(X_tr)\n",
    "scaler.transform(Xt)"
   ]
  },
  {
   "cell_type": "code",
   "execution_count": 30,
   "metadata": {},
   "outputs": [
    {
     "data": {
      "image/png": "[encoded data removed]",
      "text/plain": [
       "<Figure size 432x288 with 1 Axes>"
      ]
     },
     "metadata": {
      "needs_background": "light"
     },
     "output_type": "display_data"
    },
    {
     "name": "stdout",
     "output_type": "stream",
     "text": [
      "LogisticRegression(C=1, class_weight=None, dual=False, fit_intercept=False,\n",
      "          intercept_scaling=1, max_iter=100, multi_class='ovr', n_jobs=1,\n",
      "          penalty='l2', random_state=None, solver='liblinear', tol=0.0001,\n",
      "          verbose=0, warm_start=False)\n",
      "\n",
      "F1 score is :\n",
      "0.8783404505342997\n",
      "\n",
      "Confusion Matrix :\n",
      "[[ 2236  2515]\n",
      " [  828 24421]]\n",
      "\n",
      "****Test accuracy  is 88%\n",
      "\n",
      "precision score is 0.8786209290054264\n",
      "\n",
      "recall score is 0.8885666666666666\n"
     ]
    },
    {
     "data": {
      "image/png": "[encoded data removed]",
      "text/plain": [
       "<Figure size 432x288 with 2 Axes>"
      ]
     },
     "metadata": {
      "needs_background": "light"
     },
     "output_type": "display_data"
    }
   ],
   "source": [
    "LRG(X_tr,y_tr,Xt, yt,'l2')"
   ]
  },
  {
   "cell_type": "code",
   "execution_count": 31,
   "metadata": {},
   "outputs": [
    {
     "data": {
      "image/png": "[encoded data removed]",
      "text/plain": [
       "<Figure size 432x288 with 1 Axes>"
      ]
     },
     "metadata": {
      "needs_background": "light"
     },
     "output_type": "display_data"
    },
    {
     "name": "stdout",
     "output_type": "stream",
     "text": [
      "LogisticRegression(C=0.5, class_weight=None, dual=False, fit_intercept=False,\n",
      "          intercept_scaling=1, max_iter=100, multi_class='ovr', n_jobs=1,\n",
      "          penalty='l2', random_state=None, solver='liblinear', tol=0.0001,\n",
      "          verbose=0, warm_start=False)\n",
      "\n",
      "F1 score is :\n",
      "0.8782217859497474\n",
      "\n",
      "Confusion Matrix :\n",
      "[[ 2232  2519]\n",
      " [  826 24423]]\n",
      "\n",
      "****Test accuracy  is 88%\n",
      "\n",
      "precision score is 0.8785330809093622\n",
      "\n",
      "recall score is 0.8885\n"
     ]
    },
    {
     "data": {
      "image/png": "[encoded data removed]",
      "text/plain": [
       "<Figure size 432x288 with 2 Axes>"
      ]
     },
     "metadata": {
      "needs_background": "light"
     },
     "output_type": "display_data"
    }
   ],
   "source": [
    "LRR(X_tr,y_tr,Xt, yt,'l2')"
   ]
  },
  {
   "cell_type": "code",
   "execution_count": 32,
   "metadata": {},
   "outputs": [
    {
     "data": {
      "image/png": "[encoded data removed]",
      "text/plain": [
       "<Figure size 432x288 with 1 Axes>"
      ]
     },
     "metadata": {
      "needs_background": "light"
     },
     "output_type": "display_data"
    },
    {
     "name": "stdout",
     "output_type": "stream",
     "text": [
      "LogisticRegression(C=1, class_weight=None, dual=False, fit_intercept=False,\n",
      "          intercept_scaling=1, max_iter=100, multi_class='ovr', n_jobs=1,\n",
      "          penalty='l1', random_state=None, solver='liblinear', tol=0.0001,\n",
      "          verbose=0, warm_start=False)\n",
      "\n",
      "F1 score is :\n",
      "0.8783251754092781\n",
      "\n",
      "Confusion Matrix :\n",
      "[[ 2235  2516]\n",
      " [  827 24422]]\n",
      "\n",
      "****Test accuracy  is 88%\n",
      "\n",
      "precision score is 0.8786192869032124\n",
      "\n",
      "recall score is 0.8885666666666666\n"
     ]
    },
    {
     "data": {
      "image/png": "[encoded data removed]",
      "text/plain": [
       "<Figure size 432x288 with 2 Axes>"
      ]
     },
     "metadata": {
      "needs_background": "light"
     },
     "output_type": "display_data"
    }
   ],
   "source": [
    "LRG(X_tr,y_tr,Xt, yt,'l1')"
   ]
  },
  {
   "cell_type": "code",
   "execution_count": 33,
   "metadata": {},
   "outputs": [
    {
     "data": {
      "image/png": "[encoded data removed]",
      "text/plain": [
       "<Figure size 432x288 with 1 Axes>"
      ]
     },
     "metadata": {
      "needs_background": "light"
     },
     "output_type": "display_data"
    },
    {
     "name": "stdout",
     "output_type": "stream",
     "text": [
      "LogisticRegression(C=0.5, class_weight=None, dual=False, fit_intercept=False,\n",
      "          intercept_scaling=1, max_iter=100, multi_class='ovr', n_jobs=1,\n",
      "          penalty='l1', random_state=None, solver='liblinear', tol=0.0001,\n",
      "          verbose=0, warm_start=False)\n",
      "\n",
      "F1 score is :\n",
      "0.8781049063797227\n",
      "\n",
      "Confusion Matrix :\n",
      "[[ 2230  2521]\n",
      " [  827 24422]]\n",
      "\n",
      "****Test accuracy  is 88%\n",
      "\n",
      "precision score is 0.8784077288256478\n",
      "\n",
      "recall score is 0.8884\n"
     ]
    },
    {
     "data": {
      "image/png": "[encoded data removed]",
      "text/plain": [
       "<Figure size 432x288 with 2 Axes>"
      ]
     },
     "metadata": {
      "needs_background": "light"
     },
     "output_type": "display_data"
    }
   ],
   "source": [
    "LRR(X_tr,y_tr,Xt, yt,'l1')"
   ]
  },
  {
   "cell_type": "code",
   "execution_count": null,
   "metadata": {},
   "outputs": [],
   "source": []
  },
  {
   "cell_type": "markdown",
   "metadata": {},
   "source": [
    "<h3>Tf-Idf Word2Vec </h3>"
   ]
  },
  {
   "cell_type": "code",
   "execution_count": 57,
   "metadata": {},
   "outputs": [],
   "source": [
    "from sklearn.feature_extraction.text import TfidfVectorizer\n",
    "\n",
    "# S = [\"abc def pqr\", \"def def def abc\", \"pqr pqr def\"]\n",
    "model = TfidfVectorizer()\n",
    "tf_idf_matrix = model.fit_transform(X_tr)\n",
    "# we are converting a dictionary with word as a key, and the idf as a value\n",
    "dictionary = dict(zip(model.get_feature_names(), list(model.idf_)))"
   ]
  },
  {
   "cell_type": "code",
   "execution_count": 58,
   "metadata": {},
   "outputs": [
    {
     "name": "stderr",
     "output_type": "stream",
     "text": [
      "100%|███████████████████████████████████████████████████████████████████████████| 70000/70000 [02:44<00:00, 425.57it/s]\n"
     ]
    }
   ],
   "source": [
    "# TF-IDF weighted Word2Vec\n",
    "tfidf_feat = model.get_feature_names() # tfidf words/col-names\n",
    "# final_tf_idf is the sparse matrix with row= sentence, col=word and cell_val = tfidf\n",
    "from tqdm import tqdm\n",
    "\n",
    "tfidf_sent_vectors = []; # the tfidf-w2v for each sentence/review is stored in this list\n",
    "row=0;\n",
    "for sent in tqdm(list_of_sent): # for each review/sentence \n",
    "    sent_vec = np.zeros(50) # as word vectors are of zero length\n",
    "    weight_sum =0; # num of words with a valid vector in the sentence/review\n",
    "    for word in sent: # for each word in a review/sentence\n",
    "        if word in w2v_words:\n",
    "            vec = w2v_model.wv[word]\n",
    "            tf_idf = dictionary[word]*(sent.count(word)/len(sent))\n",
    "            sent_vec += (vec * tf_idf)\n",
    "            weight_sum += tf_idf\n",
    "    if weight_sum != 0:\n",
    "        sent_vec /= weight_sum\n",
    "    tfidf_sent_vectors.append(sent_vec)\n",
    "    row += 1"
   ]
  },
  {
   "cell_type": "code",
   "execution_count": 59,
   "metadata": {},
   "outputs": [],
   "source": [
    "train = tfidf_sent_vectors"
   ]
  },
  {
   "cell_type": "code",
   "execution_count": 60,
   "metadata": {},
   "outputs": [
    {
     "name": "stderr",
     "output_type": "stream",
     "text": [
      "100%|███████████████████████████████████████████████████████████████████████████| 30000/30000 [01:11<00:00, 417.96it/s]\n"
     ]
    }
   ],
   "source": [
    "# TF-IDF weighted Word2Vec\n",
    "tfidf_feat = model.get_feature_names() # tfidf words/col-names\n",
    "# final_tf_idf is the sparse matrix with row= sentence, col=word and cell_val = tfidf\n",
    "from tqdm import tqdm\n",
    "\n",
    "tfidf_sent_vectors_test = []; # the tfidf-w2v for each sentence/review is stored in this list\n",
    "row=0;\n",
    "for sent in tqdm(list_of_sent_test): # for each review/sentence \n",
    "    sent_vec = np.zeros(50) # as word vectors are of zero length\n",
    "    weight_sum =0; # num of words with a valid vector in the sentence/review\n",
    "    for word in sent: # for each word in a review/sentence\n",
    "        if word in w2v_words:\n",
    "            vec = w2v_model.wv[word]\n",
    "            tf_idf = dictionary[word]*(sent.count(word)/len(sent))\n",
    "            sent_vec += (vec * tf_idf)\n",
    "            weight_sum += tf_idf\n",
    "    if weight_sum != 0:\n",
    "        sent_vec /= weight_sum\n",
    "    tfidf_sent_vectors_test.append(sent_vec)\n",
    "    row += 1"
   ]
  },
  {
   "cell_type": "code",
   "execution_count": 61,
   "metadata": {},
   "outputs": [],
   "source": [
    "test = tfidf_sent_vectors_test"
   ]
  },
  {
   "cell_type": "code",
   "execution_count": 37,
   "metadata": {},
   "outputs": [
    {
     "data": {
      "image/png": "[encoded data removed]",
      "text/plain": [
       "<Figure size 432x288 with 1 Axes>"
      ]
     },
     "metadata": {
      "needs_background": "light"
     },
     "output_type": "display_data"
    },
    {
     "name": "stdout",
     "output_type": "stream",
     "text": [
      "LogisticRegression(C=100, class_weight=None, dual=False, fit_intercept=False,\n",
      "          intercept_scaling=1, max_iter=100, multi_class='ovr', n_jobs=1,\n",
      "          penalty='l2', random_state=None, solver='liblinear', tol=0.0001,\n",
      "          verbose=0, warm_start=False)\n",
      "\n",
      "F1 score is :\n",
      "0.8607788960838729\n",
      "\n",
      "Confusion Matrix :\n",
      "[[ 1824  2927]\n",
      " [  785 24464]]\n",
      "\n",
      "****Test accuracy  is 87%\n",
      "\n",
      "precision score is 0.8624135211189612\n",
      "\n",
      "recall score is 0.8762666666666666\n"
     ]
    },
    {
     "data": {
      "image/png": "[encoded data removed]",
      "text/plain": [
       "<Figure size 432x288 with 2 Axes>"
      ]
     },
     "metadata": {
      "needs_background": "light"
     },
     "output_type": "display_data"
    }
   ],
   "source": [
    "LRG(train,y_tr,test, yt,'l2')"
   ]
  },
  {
   "cell_type": "code",
   "execution_count": 62,
   "metadata": {},
   "outputs": [
    {
     "data": {
      "image/png": "[encoded data removed]",
      "text/plain": [
       "<Figure size 432x288 with 1 Axes>"
      ]
     },
     "metadata": {
      "needs_background": "light"
     },
     "output_type": "display_data"
    },
    {
     "name": "stdout",
     "output_type": "stream",
     "text": [
      "LogisticRegression(C=100, class_weight=None, dual=False, fit_intercept=False,\n",
      "          intercept_scaling=1, max_iter=100, multi_class='ovr', n_jobs=1,\n",
      "          penalty='l2', random_state=None, solver='liblinear', tol=0.0001,\n",
      "          verbose=0, warm_start=False)\n",
      "\n",
      "F1 score is :\n",
      "0.8616988560306267\n",
      "\n",
      "Confusion Matrix :\n",
      "[[ 1872  2879]\n",
      " [  833 24416]]\n",
      "\n",
      "****Test accuracy  is 87%\n",
      "\n",
      "precision score is 0.8624581410316099\n",
      "\n",
      "recall score is 0.8762666666666666\n"
     ]
    },
    {
     "data": {
      "image/png": "[encoded data removed]",
      "text/plain": [
       "<Figure size 432x288 with 2 Axes>"
      ]
     },
     "metadata": {
      "needs_background": "light"
     },
     "output_type": "display_data"
    }
   ],
   "source": [
    "LRR(train,y_tr,test, yt,'l2')"
   ]
  },
  {
   "cell_type": "code",
   "execution_count": 34,
   "metadata": {},
   "outputs": [
    {
     "data": {
      "image/png": "[encoded data removed]",
      "text/plain": [
       "<Figure size 432x288 with 1 Axes>"
      ]
     },
     "metadata": {
      "needs_background": "light"
     },
     "output_type": "display_data"
    },
    {
     "name": "stdout",
     "output_type": "stream",
     "text": [
      "LogisticRegression(C=10, class_weight=None, dual=False, fit_intercept=False,\n",
      "          intercept_scaling=1, max_iter=100, multi_class='ovr', n_jobs=1,\n",
      "          penalty='l1', random_state=None, solver='liblinear', tol=0.0001,\n",
      "          verbose=0, warm_start=False)\n",
      "\n",
      "F1 score is :\n",
      "0.8608261223574757\n",
      "\n",
      "Confusion Matrix :\n",
      "[[ 1825  2926]\n",
      " [  785 24464]]\n",
      "\n",
      "****Test accuracy  is 87%\n",
      "\n",
      "precision score is 0.8624592218683161\n",
      "\n",
      "recall score is 0.8763\n"
     ]
    },
    {
     "data": {
      "image/png": "[encoded data removed]",
      "text/plain": [
       "<Figure size 432x288 with 2 Axes>"
      ]
     },
     "metadata": {
      "needs_background": "light"
     },
     "output_type": "display_data"
    }
   ],
   "source": [
    "LRG(train,y_tr,test, yt,'l1')"
   ]
  },
  {
   "cell_type": "code",
   "execution_count": 63,
   "metadata": {},
   "outputs": [
    {
     "data": {
      "image/png": "[encoded data removed]",
      "text/plain": [
       "<Figure size 432x288 with 1 Axes>"
      ]
     },
     "metadata": {
      "needs_background": "light"
     },
     "output_type": "display_data"
    },
    {
     "name": "stdout",
     "output_type": "stream",
     "text": [
      "LogisticRegression(C=1000, class_weight=None, dual=False, fit_intercept=False,\n",
      "          intercept_scaling=1, max_iter=100, multi_class='ovr', n_jobs=1,\n",
      "          penalty='l1', random_state=None, solver='liblinear', tol=0.0001,\n",
      "          verbose=0, warm_start=False)\n",
      "\n",
      "F1 score is :\n",
      "0.8617455528229577\n",
      "\n",
      "Confusion Matrix :\n",
      "[[ 1873  2878]\n",
      " [  833 24416]]\n",
      "\n",
      "****Test accuracy  is 87%\n",
      "\n",
      "precision score is 0.8625037468362753\n",
      "\n",
      "recall score is 0.8763\n"
     ]
    },
    {
     "data": {
      "image/png": "[encoded data removed]",
      "text/plain": [
       "<Figure size 432x288 with 2 Axes>"
      ]
     },
     "metadata": {
      "needs_background": "light"
     },
     "output_type": "display_data"
    }
   ],
   "source": [
    "LRR(train,y_tr,test,yt,'l1')"
   ]
  },
  {
   "cell_type": "markdown",
   "metadata": {},
   "source": [
    "<h2>Conclusion</h2>"
   ]
  },
  {
   "cell_type": "markdown",
   "metadata": {},
   "source": [
    "Here we have considered 100k data points"
   ]
  },
  {
   "cell_type": "code",
   "execution_count": 64,
   "metadata": {},
   "outputs": [
    {
     "data": {
      "text/html": [
       "<div>\n",
       "<style scoped>\n",
       "    .dataframe tbody tr th:only-of-type {\n",
       "        vertical-align: middle;\n",
       "    }\n",
       "\n",
       "    .dataframe tbody tr th {\n",
       "        vertical-align: top;\n",
       "    }\n",
       "\n",
       "    .dataframe thead th {\n",
       "        text-align: right;\n",
       "    }\n",
       "</style>\n",
       "<table border=\"1\" class=\"dataframe\">\n",
       "  <thead>\n",
       "    <tr style=\"text-align: right;\">\n",
       "      <th></th>\n",
       "      <th>Technique</th>\n",
       "      <th>C in GridSearch</th>\n",
       "      <th>F1 score GSV</th>\n",
       "      <th>C in RandomSearch</th>\n",
       "      <th>F1 score RSV</th>\n",
       "      <th>Avg Accuracies</th>\n",
       "    </tr>\n",
       "  </thead>\n",
       "  <tbody>\n",
       "    <tr>\n",
       "      <th>0</th>\n",
       "      <td>Bow with L2</td>\n",
       "      <td>0.1</td>\n",
       "      <td>0.9515</td>\n",
       "      <td>0.5</td>\n",
       "      <td>0.9146</td>\n",
       "      <td>91</td>\n",
       "    </tr>\n",
       "    <tr>\n",
       "      <th>1</th>\n",
       "      <td>Bow with L1</td>\n",
       "      <td>1.0</td>\n",
       "      <td>0.9111</td>\n",
       "      <td>0.5</td>\n",
       "      <td>0.9142</td>\n",
       "      <td>91</td>\n",
       "    </tr>\n",
       "    <tr>\n",
       "      <th>2</th>\n",
       "      <td>TFIDF with L2</td>\n",
       "      <td>10.0</td>\n",
       "      <td>0.9142</td>\n",
       "      <td>5.0</td>\n",
       "      <td>0.9150</td>\n",
       "      <td>91</td>\n",
       "    </tr>\n",
       "    <tr>\n",
       "      <th>3</th>\n",
       "      <td>TFIDF with L1</td>\n",
       "      <td>1.0</td>\n",
       "      <td>0.9133</td>\n",
       "      <td>5.0</td>\n",
       "      <td>0.9131</td>\n",
       "      <td>91</td>\n",
       "    </tr>\n",
       "    <tr>\n",
       "      <th>4</th>\n",
       "      <td>Avg_w2v with L2</td>\n",
       "      <td>1.0</td>\n",
       "      <td>0.8783</td>\n",
       "      <td>1.0</td>\n",
       "      <td>0.8782</td>\n",
       "      <td>88</td>\n",
       "    </tr>\n",
       "    <tr>\n",
       "      <th>5</th>\n",
       "      <td>Avg_w2v with L1</td>\n",
       "      <td>1.0</td>\n",
       "      <td>0.8782</td>\n",
       "      <td>1.0</td>\n",
       "      <td>0.8781</td>\n",
       "      <td>88</td>\n",
       "    </tr>\n",
       "    <tr>\n",
       "      <th>6</th>\n",
       "      <td>tfidf_w2v with L2</td>\n",
       "      <td>100.0</td>\n",
       "      <td>0.8607</td>\n",
       "      <td>100.0</td>\n",
       "      <td>0.8616</td>\n",
       "      <td>87</td>\n",
       "    </tr>\n",
       "    <tr>\n",
       "      <th>7</th>\n",
       "      <td>tfidf_w2v with L1</td>\n",
       "      <td>10.0</td>\n",
       "      <td>0.8608</td>\n",
       "      <td>1000.0</td>\n",
       "      <td>0.8627</td>\n",
       "      <td>87</td>\n",
       "    </tr>\n",
       "  </tbody>\n",
       "</table>\n",
       "</div>"
      ],
      "text/plain": [
       "           Technique  C in GridSearch  F1 score GSV  C in RandomSearch  \\\n",
       "0        Bow with L2              0.1        0.9515                0.5   \n",
       "1        Bow with L1              1.0        0.9111                0.5   \n",
       "2      TFIDF with L2             10.0        0.9142                5.0   \n",
       "3      TFIDF with L1              1.0        0.9133                5.0   \n",
       "4    Avg_w2v with L2              1.0        0.8783                1.0   \n",
       "5    Avg_w2v with L1              1.0        0.8782                1.0   \n",
       "6  tfidf_w2v with L2            100.0        0.8607              100.0   \n",
       "7  tfidf_w2v with L1             10.0        0.8608             1000.0   \n",
       "\n",
       "   F1 score RSV  Avg Accuracies  \n",
       "0        0.9146              91  \n",
       "1        0.9142              91  \n",
       "2        0.9150              91  \n",
       "3        0.9131              91  \n",
       "4        0.8782              88  \n",
       "5        0.8781              88  \n",
       "6        0.8616              87  \n",
       "7        0.8627              87  "
      ]
     },
     "execution_count": 64,
     "metadata": {},
     "output_type": "execute_result"
    }
   ],
   "source": [
    "table = {'Technique':['Bow with L2','Bow with L1', \"TFIDF with L2\",\"TFIDF with L1\", \"Avg_w2v with L2\",\"Avg_w2v with L1\", \"tfidf_w2v with L2\",\"tfidf_w2v with L1\"],'C in GridSearch':[0.1,1,10,1,1,1,100,10],'F1 score GSV':[0.9515,0.9111,0.9142,0.9133,0.8783,0.8782,0.8607,0.8608],'C in RandomSearch':[0.5,0.5,5,5,1,1,100,1000],'F1 score RSV':[0.9146,0.9142,0.9150,0.9131,0.8782,0.8781,0.8616,0.8627],'Avg Accuracies':[91,91,91,91,88,88,87,87] }\n",
    "df = pd.DataFrame(data=table)\n",
    "df"
   ]
  },
  {
   "cell_type": "markdown",
   "metadata": {},
   "source": [
    "    -Tf-idf performed Very well in Logistic Regression\n",
    "    -Here Features are multi-collinear i.e. they are co-related\n",
    "    -Sparsity increases as we increase lambda or decrease C in L1 Regularizer\n",
    "    -tfidf w2v gave poorly result\n",
    "    \n",
    "    -Perburtation Results :\n",
    "        -In BoW with noise of 0.001\n",
    "        -70 features have weight changes greater than 30% so they are multi-collinear\n",
    "        \n",
    "        -In tfidf with noise of 0.001\n",
    "        -52 features have weight changes greater than 30% so they are multi-collinear\n",
    "        \n",
    "    -Sparsity Results :\n",
    "        -We can see how drastically the sparsity increases from 4459 non-zero weights(C=1) to only 7 non-zero weights(C=0.001) when we use L1 Regularization\n",
    "        -For Tfidf, We can see how drastically the sparsity increases from 1381 non-zero weights(C=1) to only 6 non-zero                      weights(C=0.001) when we use L1 Regularization"
   ]
  },
  {
   "cell_type": "code",
   "execution_count": 278,
   "metadata": {},
   "outputs": [
    {
     "name": "stdout",
     "output_type": "stream",
     "text": [
      "End\n"
     ]
    }
   ],
   "source": [
    "print(\"End\")"
   ]
  }
 ],
 "metadata": {
  "kernelspec": {
   "display_name": "Python 3",
   "language": "python",
   "name": "python3"
  },
  "language_info": {
   "codemirror_mode": {
    "name": "ipython",
    "version": 3
   },
   "file_extension": ".py",
   "mimetype": "text/x-python",
   "name": "python",
   "nbconvert_exporter": "python",
   "pygments_lexer": "ipython3",
   "version": "3.7.0"
  }
 },
 "nbformat": 4,
 "nbformat_minor": 2
}
